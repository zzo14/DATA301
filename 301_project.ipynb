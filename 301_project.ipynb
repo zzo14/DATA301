{
  "nbformat": 4,
  "nbformat_minor": 0,
  "metadata": {
    "colab": {
      "name": "301-project.ipynb",
      "provenance": [],
      "collapsed_sections": [],
      "authorship_tag": "ABX9TyMPqkhAaAk6SYrugKONrx1o",
      "include_colab_link": true
    },
    "kernelspec": {
      "display_name": "Python 3",
      "name": "python3"
    },
    "language_info": {
      "name": "python"
    }
  },
  "cells": [
    {
      "cell_type": "markdown",
      "metadata": {
        "id": "view-in-github",
        "colab_type": "text"
      },
      "source": [
        "<a href=\"https://colab.research.google.com/github/zzo14/DATA301/blob/main/301_project.ipynb\" target=\"_parent\"><img src=\"https://colab.research.google.com/assets/colab-badge.svg\" alt=\"Open In Colab\"/></a>"
      ]
    },
    {
      "cell_type": "code",
      "metadata": {
        "colab": {
          "base_uri": "https://localhost:8080/"
        },
        "id": "_4F3AQ7-_9RF",
        "outputId": "99cc9a2d-f098-4904-e613-7c46cf4b9489"
      },
      "source": [
        "#library and code setup\n",
        "!apt-get update\n",
        "!apt-get install openjdk-8-jdk-headless -qq > /dev/null\n",
        "!pip install -q pyspark\n",
        "\n",
        "import pyspark, os\n",
        "from pyspark import SparkConf, SparkContext\n",
        "os.environ[\"PYSPARK_PYTHON\"]=\"python3\"\n",
        "os.environ[\"JAVA_HOME\"]=\"/usr/lib/jvm/java-8-openjdk-amd64/\"\n",
        "\n",
        "!pip install gdelt"
      ],
      "execution_count": null,
      "outputs": [
        {
          "output_type": "stream",
          "text": [
            "Get:1 http://security.ubuntu.com/ubuntu bionic-security InRelease [88.7 kB]\n",
            "Ign:2 https://developer.download.nvidia.com/compute/cuda/repos/ubuntu1804/x86_64  InRelease\n",
            "Get:3 https://cloud.r-project.org/bin/linux/ubuntu bionic-cran40/ InRelease [3,626 B]\n",
            "Ign:4 https://developer.download.nvidia.com/compute/machine-learning/repos/ubuntu1804/x86_64  InRelease\n",
            "Get:5 http://ppa.launchpad.net/c2d4u.team/c2d4u4.0+/ubuntu bionic InRelease [15.9 kB]\n",
            "Hit:6 https://developer.download.nvidia.com/compute/cuda/repos/ubuntu1804/x86_64  Release\n",
            "Hit:7 https://developer.download.nvidia.com/compute/machine-learning/repos/ubuntu1804/x86_64  Release\n",
            "Hit:8 http://archive.ubuntu.com/ubuntu bionic InRelease\n",
            "Get:9 http://archive.ubuntu.com/ubuntu bionic-updates InRelease [88.7 kB]\n",
            "Get:10 http://security.ubuntu.com/ubuntu bionic-security/universe amd64 Packages [1,414 kB]\n",
            "Hit:11 http://ppa.launchpad.net/cran/libgit2/ubuntu bionic InRelease\n",
            "Get:12 http://security.ubuntu.com/ubuntu bionic-security/main amd64 Packages [2,182 kB]\n",
            "Get:13 http://ppa.launchpad.net/deadsnakes/ppa/ubuntu bionic InRelease [15.9 kB]\n",
            "Get:14 http://archive.ubuntu.com/ubuntu bionic-backports InRelease [74.6 kB]\n",
            "Get:15 http://security.ubuntu.com/ubuntu bionic-security/restricted amd64 Packages [448 kB]\n",
            "Hit:16 http://ppa.launchpad.net/graphics-drivers/ppa/ubuntu bionic InRelease\n",
            "Get:19 http://ppa.launchpad.net/c2d4u.team/c2d4u4.0+/ubuntu bionic/main Sources [1,770 kB]\n",
            "Get:20 http://archive.ubuntu.com/ubuntu bionic-updates/universe amd64 Packages [2,184 kB]\n",
            "Get:21 http://archive.ubuntu.com/ubuntu bionic-updates/restricted amd64 Packages [480 kB]\n",
            "Get:22 http://ppa.launchpad.net/c2d4u.team/c2d4u4.0+/ubuntu bionic/main amd64 Packages [906 kB]\n",
            "Get:23 http://archive.ubuntu.com/ubuntu bionic-updates/main amd64 Packages [2,617 kB]\n",
            "Get:24 http://ppa.launchpad.net/deadsnakes/ppa/ubuntu bionic/main amd64 Packages [40.9 kB]\n",
            "Fetched 12.3 MB in 4s (3,410 kB/s)\n",
            "Reading package lists... Done\n",
            "\u001b[K     |████████████████████████████████| 212.4MB 73kB/s \n",
            "\u001b[K     |████████████████████████████████| 204kB 20.1MB/s \n",
            "\u001b[?25h  Building wheel for pyspark (setup.py) ... \u001b[?25l\u001b[?25hdone\n",
            "Collecting gdelt\n",
            "\u001b[?25l  Downloading https://files.pythonhosted.org/packages/65/f9/a3d5111c8f17334b1752c32aedaab0d01ab4324bf26417bd41890d5b25d0/gdelt-0.1.10.6.1-py2.py3-none-any.whl (773kB)\n",
            "\u001b[K     |████████████████████████████████| 778kB 4.0MB/s \n",
            "\u001b[?25hRequirement already satisfied: requests in /usr/local/lib/python3.7/dist-packages (from gdelt) (2.23.0)\n",
            "Requirement already satisfied: pandas>=0.20.3 in /usr/local/lib/python3.7/dist-packages (from gdelt) (1.1.5)\n",
            "Requirement already satisfied: numpy in /usr/local/lib/python3.7/dist-packages (from gdelt) (1.19.5)\n",
            "Requirement already satisfied: python-dateutil in /usr/local/lib/python3.7/dist-packages (from gdelt) (2.8.1)\n",
            "Requirement already satisfied: certifi>=2017.4.17 in /usr/local/lib/python3.7/dist-packages (from requests->gdelt) (2020.12.5)\n",
            "Requirement already satisfied: idna<3,>=2.5 in /usr/local/lib/python3.7/dist-packages (from requests->gdelt) (2.10)\n",
            "Requirement already satisfied: urllib3!=1.25.0,!=1.25.1,<1.26,>=1.21.1 in /usr/local/lib/python3.7/dist-packages (from requests->gdelt) (1.24.3)\n",
            "Requirement already satisfied: chardet<4,>=3.0.2 in /usr/local/lib/python3.7/dist-packages (from requests->gdelt) (3.0.4)\n",
            "Requirement already satisfied: pytz>=2017.2 in /usr/local/lib/python3.7/dist-packages (from pandas>=0.20.3->gdelt) (2018.9)\n",
            "Requirement already satisfied: six>=1.5 in /usr/local/lib/python3.7/dist-packages (from python-dateutil->gdelt) (1.15.0)\n",
            "Installing collected packages: gdelt\n",
            "Successfully installed gdelt-0.1.10.6\n"
          ],
          "name": "stdout"
        }
      ]
    },
    {
      "cell_type": "code",
      "metadata": {
        "id": "NCXAY4UOBj1f"
      },
      "source": [
        "#start spark local server\n",
        "import sys, os\n",
        "from operator import add\n",
        "import time\n",
        "\n",
        "os.environ[\"PYSPARK_PYTHON\"]=\"python3\"\n",
        "\n",
        "import pyspark\n",
        "from pyspark import SparkConf, SparkContext\n",
        "\n",
        "#connects our python driver to a local Spark JVM running on the Google Colab server virtual machine\n",
        "try:\n",
        "  conf = SparkConf().setMaster(\"local[*]\").set(\"spark.executor.memory\", \"1g\")\n",
        "  sc = SparkContext(conf = conf)\n",
        "except ValueError:\n",
        "  #it's ok if the server is already started\n",
        "  pass\n",
        "\n",
        "def dbg(x):\n",
        "  \"\"\" A helper function to print debugging information on RDDs \"\"\"\n",
        "  if isinstance(x, pyspark.RDD):\n",
        "    print([(t[0], list(t[1]) if \n",
        "            isinstance(t[1], pyspark.resultiterable.ResultIterable) else t[1])\n",
        "           if isinstance(t, tuple) else t\n",
        "           for t in x.take(100)])\n",
        "  else:\n",
        "    print(x)"
      ],
      "execution_count": null,
      "outputs": []
    },
    {
      "cell_type": "code",
      "metadata": {
        "id": "2tDgBeSqqvm_",
        "colab": {
          "base_uri": "https://localhost:8080/"
        },
        "outputId": "2a2d613d-2147-4b56-a79a-14cdbd4bd4d1"
      },
      "source": [
        "# these remove files from previous runs\n",
        "!rm -rf articles\n",
        "!rm *.csv"
      ],
      "execution_count": null,
      "outputs": [
        {
          "output_type": "stream",
          "text": [
            "rm: cannot remove '*.csv': No such file or directory\n"
          ],
          "name": "stdout"
        }
      ]
    },
    {
      "cell_type": "code",
      "metadata": {
        "id": "cz7c8su85Ho0"
      },
      "source": [
        "queryURLbase = \"https://api.gdeltproject.org/api/v2/doc/doc?format=csv&query=(%22Covid-19%22%20OR%20coronavirus)%20sourcecountry:US%20sourcelang:eng&mode=artlist&maxrecords=250&sort=hybridrel\""
      ],
      "execution_count": null,
      "outputs": []
    },
    {
      "cell_type": "code",
      "metadata": {
        "id": "EF23iqKwB3nd"
      },
      "source": [
        "from concurrent.futures import ProcessPoolExecutor\n",
        "from datetime import date, timedelta\n",
        "import pandas as pd\n",
        "import gdelt\n",
        "import os\n",
        "import urllib.request\n",
        "\n",
        "# set up gdeltpyr for version 2\n",
        "gd = gdelt.gdelt(version=2)\n",
        "\n",
        "# multiprocess the query\n",
        "e = ProcessPoolExecutor()\n",
        "\n",
        "\n",
        "# generic functions to pull and write data to disk based on date\n",
        "def get_filename(x):\n",
        "  date = x.strftime('%Y%m%d')\n",
        "  return \"{}_gdeltdata.csv\".format(date)\n",
        "\n",
        "def intofile(filename):\n",
        "    try:\n",
        "        if not os.path.exists(filename):\n",
        "          date = filename.split(\"_\")[0]\n",
        "          startdate = date+\"000000\" #0 hour 0 min 0 sec (start of day)\n",
        "          enddate = date+\"235959\" #23 hour 59 min 59 sec (end of day)\n",
        "          query = queryURLbase + \"&startdatetime=\" + startdate + \"&enddatetime=\" + enddate\n",
        "          with urllib.request.urlopen(query) as testfile, open(filename, 'w') as f:\n",
        "            f.write(testfile.read().decode())\n",
        "    except:\n",
        "        print(\"Error occurred\")\n",
        "        \n",
        "before_election_dateRange = sc.parallelize(pd.date_range('2020 Aug 3','2020 Nov 3'))\n",
        "after_election__dateRange = sc.parallelize(pd.date_range('2021 Jan 20', '2021 Apr 20'))\n",
        "\n",
        "before_election = before_election_dateRange.map(get_filename)\n",
        "after_election = after_election__dateRange.map(get_filename)\n",
        "\n",
        "before_election.foreach(intofile)\n",
        "after_election.foreach(intofile)"
      ],
      "execution_count": null,
      "outputs": []
    },
    {
      "cell_type": "code",
      "metadata": {
        "id": "SGM7B4QoxOLh"
      },
      "source": [
        "start_time = time.time()"
      ],
      "execution_count": null,
      "outputs": []
    },
    {
      "cell_type": "code",
      "metadata": {
        "colab": {
          "base_uri": "https://localhost:8080/"
        },
        "id": "RBFYVcRYCj_W",
        "outputId": "009cef50-5fae-47a7-99fa-d723d67037ef"
      },
      "source": [
        "from pyspark.sql import SQLContext\n",
        "sqlContext = SQLContext(sc)\n",
        "\n",
        "before_election_urls = sqlContext.read.option(\"header\", \"true\").csv(before_election.collect()).dropDuplicates(['Title'])\n",
        "after_election_urls = sqlContext.read.option(\"header\", \"true\").csv(after_election.collect()).dropDuplicates(['Title'])\n",
        "\n",
        "dbg(before_election_urls.count())\n",
        "dbg(after_election_urls.count())"
      ],
      "execution_count": null,
      "outputs": [
        {
          "output_type": "stream",
          "text": [
            "14978\n",
            "13324\n"
          ],
          "name": "stdout"
        }
      ]
    },
    {
      "cell_type": "code",
      "metadata": {
        "id": "H0nfAEuIvak9"
      },
      "source": [
        "import time\n",
        "from datetime import datetime\n",
        "from pyspark.sql.functions import month\n",
        "from pyspark.sql.types import DateType\n",
        "\n",
        "def get_headlines(row):\n",
        "    return row['Title']\n",
        "\n",
        "       \n",
        "all_headlines_before = before_election_urls.rdd.map(get_headlines)\n",
        "all_headlines_after = after_election_urls.rdd.map(get_headlines)"
      ],
      "execution_count": null,
      "outputs": []
    },
    {
      "cell_type": "code",
      "metadata": {
        "id": "auKycRn_xjMD",
        "colab": {
          "base_uri": "https://localhost:8080/"
        },
        "outputId": "d9a52955-1f41-4b6e-88cd-c9d4ab254c59"
      },
      "source": [
        "import nltk\n",
        "nltk.download('vader_lexicon')\n",
        "from nltk.sentiment.vader import SentimentIntensityAnalyzer \n",
        "\n",
        "sia = SentimentIntensityAnalyzer()\n",
        "results = []\n",
        "headlines = [all_headlines_before.collect(), all_headlines_after.collect()]\n",
        "months_before = before_election_urls.select(month(before_election_urls.Date)).rdd.flatMap(lambda x: x).collect()\n",
        "months_after = after_election_urls.select(month(after_election_urls.Date)).rdd.flatMap(lambda x: x).collect()\n",
        "dates = [months_before, months_after]\n",
        "\n",
        "for head,date in zip(headlines,dates):\n",
        "  #print(head, date)\n",
        "  if len(results)!=0:\n",
        "    df=pd.DataFrame(results)\n",
        "    df['label'] = 0\n",
        "    df.loc[df['compound'] > 0.2, 'label'] = 1\n",
        "    df.loc[df['compound'] < -0.2, 'label'] = -1\n",
        "    df.to_csv('before_sia.csv')\n",
        "    results=[]\n",
        "  for line,dt in zip(head,date) :\n",
        "    try:\n",
        "      pol_score = sia.polarity_scores(line)\n",
        "      pol_score['headline'] = line\n",
        "      pol_score['month']=dt\n",
        "      results.append(pol_score)\n",
        "    except:\n",
        "      print('Skipped')\n",
        "\n",
        "df = pd.DataFrame(results)\n",
        "df['label'] = 0\n",
        "df.loc[df['compound'] > 0.2, 'label'] = 1\n",
        "df.loc[df['compound'] < -0.2, 'label'] = -1\n",
        "df.to_csv('after_sia.csv')"
      ],
      "execution_count": null,
      "outputs": [
        {
          "output_type": "stream",
          "text": [
            "[nltk_data] Downloading package vader_lexicon to /root/nltk_data...\n",
            "[nltk_data]   Package vader_lexicon is already up-to-date!\n"
          ],
          "name": "stdout"
        }
      ]
    },
    {
      "cell_type": "code",
      "metadata": {
        "id": "cWpglFllP2qq"
      },
      "source": [
        "before_sentiments = sqlContext.read.option(\"header\", \"true\").csv('before_sia.csv')\n",
        "after_sentiments = sqlContext.read.option(\"header\", \"true\").csv('after_sia.csv')"
      ],
      "execution_count": null,
      "outputs": []
    },
    {
      "cell_type": "code",
      "metadata": {
        "id": "PHd0GjlZQwIV",
        "colab": {
          "base_uri": "https://localhost:8080/"
        },
        "outputId": "e67b4736-697a-40bf-9667-fce0fcf9f49a"
      },
      "source": [
        "before_sentiments.groupby('month').agg({'compound': 'mean'}).show()"
      ],
      "execution_count": null,
      "outputs": [
        {
          "output_type": "stream",
          "text": [
            "+-----+--------------------+\n",
            "|month|       avg(compound)|\n",
            "+-----+--------------------+\n",
            "|   11|-0.04194635294117...|\n",
            "|    8|-0.02410667074663...|\n",
            "|    9|-0.02800129353233...|\n",
            "|   10|-0.00773623000432...|\n",
            "+-----+--------------------+\n",
            "\n"
          ],
          "name": "stdout"
        }
      ]
    },
    {
      "cell_type": "code",
      "metadata": {
        "id": "5G4hlwZqQ23l",
        "colab": {
          "base_uri": "https://localhost:8080/"
        },
        "outputId": "fa0ebfe5-d3c2-4f1e-d05e-0c651209020e"
      },
      "source": [
        "after_sentiments.groupby('month',sortBy=True).agg({'compound': 'mean'}).show()"
      ],
      "execution_count": null,
      "outputs": [
        {
          "output_type": "stream",
          "text": [
            "+-----+--------------------+\n",
            "|month|       avg(compound)|\n",
            "+-----+--------------------+\n",
            "|    3|-0.02214569591371098|\n",
            "|    1| 9.85489313835791E-4|\n",
            "|    4|1.432946145723578...|\n",
            "|    2|-0.00568774459320...|\n",
            "+-----+--------------------+\n",
            "\n"
          ],
          "name": "stdout"
        }
      ]
    },
    {
      "cell_type": "code",
      "metadata": {
        "id": "4MvMEpxLRHbC",
        "colab": {
          "base_uri": "https://localhost:8080/",
          "height": 501
        },
        "outputId": "205de4f0-e4d1-45ca-ea60-47f9fbe180bb"
      },
      "source": [
        "from matplotlib import pyplot\n",
        "import seaborn\n",
        "fig, ax = pyplot.subplots(figsize=(8, 8))\n",
        "before_plot=before_sentiments.toPandas()\n",
        "counts = before_plot.label.value_counts(normalize=True) * 100\n",
        "\n",
        "ax=seaborn.barplot(x=counts.index, y=counts, ax=ax)\n",
        "#annotate axis = seaborn axis\n",
        "for p in ax.patches:\n",
        "             ax.annotate(\"%.2f\" % p.get_height(), (p.get_x() + p.get_width() / 2., p.get_height()),\n",
        "                 ha='center', va='center', fontsize=11, color='gray', xytext=(0, 20),\n",
        "                 textcoords='offset points')\n",
        "ax.set_xticklabels(['Negative', 'Neutral', 'Positive'])\n",
        "ax.set_ylabel(\"Percentage\")\n",
        "ax.set_xlabel(\"before election\")\n",
        "\n",
        "pyplot.show()"
      ],
      "execution_count": null,
      "outputs": [
        {
          "output_type": "display_data",
          "data": {
            "image/png": "[encoded data removed]",
            "text/plain": [
              "<Figure size 576x576 with 1 Axes>"
            ]
          },
          "metadata": {
            "tags": [],
            "needs_background": "light"
          }
        }
      ]
    },
    {
      "cell_type": "code",
      "metadata": {
        "id": "STx1Af9rRpo_",
        "colab": {
          "base_uri": "https://localhost:8080/",
          "height": 501
        },
        "outputId": "67f53bd8-4d52-481e-afc3-7666d9a98251"
      },
      "source": [
        "fig, ax = pyplot.subplots(figsize=(8, 8))\n",
        "after_plot=after_sentiments.toPandas()\n",
        "counts = after_plot.label.value_counts(normalize=True) * 100\n",
        "\n",
        "ax=seaborn.barplot(x=counts.index, y=counts, ax=ax)\n",
        "#annotate axis = seaborn axis\n",
        "for p in ax.patches:\n",
        "  ax.annotate(\"%.2f\" % p.get_height(), (p.get_x() + p.get_width() / 2., p.get_height()),\n",
        "      ha='center', va='center', fontsize=11, color='gray', xytext=(0, 20),\n",
        "      textcoords='offset points')\n",
        "\n",
        "ax.set_xticklabels(['Negative', 'Neutral', 'Positive'])\n",
        "ax.set_ylabel(\"Percentage\")\n",
        "ax.set_xlabel(\"after election\")\n",
        "\n",
        "pyplot.show()"
      ],
      "execution_count": null,
      "outputs": [
        {
          "output_type": "display_data",
          "data": {
            "image/png": "[encoded data removed]",
            "text/plain": [
              "<Figure size 576x576 with 1 Axes>"
            ]
          },
          "metadata": {
            "tags": [],
            "needs_background": "light"
          }
        }
      ]
    },
    {
      "cell_type": "code",
      "metadata": {
        "colab": {
          "base_uri": "https://localhost:8080/"
        },
        "id": "e2b97oCtiyeA",
        "outputId": "32b9ba38-36eb-4ea6-f280-63a8d3242292"
      },
      "source": [
        "end_time = time.time()\n",
        "print(\"process time: \" + str(end_time - start_time))"
      ],
      "execution_count": null,
      "outputs": [
        {
          "output_type": "stream",
          "text": [
            "process time: 62.076056718826294\n"
          ],
          "name": "stdout"
        }
      ]
    }
  ]
}